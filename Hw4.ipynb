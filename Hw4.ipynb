{
  "nbformat": 4,
  "nbformat_minor": 0,
  "metadata": {
    "colab": {
      "provenance": [],
      "authorship_tag": "ABX9TyMA9dV5qkrrXcdpDwynbq0b",
      "include_colab_link": true
    },
    "kernelspec": {
      "name": "python3",
      "display_name": "Python 3"
    },
    "language_info": {
      "name": "python"
    }
  },
  "cells": [
    {
      "cell_type": "markdown",
      "metadata": {
        "id": "view-in-github",
        "colab_type": "text"
      },
      "source": [
        "<a href=\"https://colab.research.google.com/github/Thitiphorn267-3/BSC_DPDM23/blob/main/Hw4.ipynb\" target=\"_parent\"><img src=\"https://colab.research.google.com/assets/colab-badge.svg\" alt=\"Open In Colab\"/></a>"
      ]
    },
    {
      "cell_type": "markdown",
      "source": [
        "#Hw4\n",
        "\n",
        "สมาชิก\n",
        "*   ขวัญสวรรค์ ทองประเสริฐ   643020498-9\n",
        "*   นริศรา โยธาจันทร์        643020504-0\n",
        "*   นรีกานต์ ปัญญารักษ์      643020505-8\n",
        "*พิมพิกา ยอดศรี          643020511-3\n",
        "*รัตชฎากร นามวงศ์        643020517-1\n",
        "*สุชาดา อุปพงษ์          643020524-4\n",
        "*ธิติพร หิงพุดซา          643021267-3\n",
        "*สุนิสา อุดมขันธุ์          643021278-8"
      ],
      "metadata": {
        "id": "-MzktkuS-4gm"
      }
    },
    {
      "cell_type": "markdown",
      "source": [],
      "metadata": {
        "id": "lSter4AV_FA3"
      }
    }
  ]
}